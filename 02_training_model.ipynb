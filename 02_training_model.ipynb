{
 "cells": [
  {
   "cell_type": "markdown",
   "id": "fee4cd2d",
   "metadata": {},
   "source": [
    "### Setting up\n",
    "\n",
    "We are going to pre-assign the path locations so that it's easier to work with.\n",
    "Next we are going to choose our model. For this demo, we are using SSD Mobnet. You can find the list of all the tensorflow models out there. They are most commonly known as [**Tensorflow model zoo**](https://github.com/tensorflow/models/blob/master/research/object_detection/g3doc/tf2_detection_zoo.md)\n",
    "\n",
    "**NOTE:** The exclaimation mark before any commands means that it will be run by your operating system shell instead of python. \n",
    "\n",
    "Ref: https://youtu.be/yqkISICHH-U?t=6117"
   ]
  },
  {
   "cell_type": "code",
   "execution_count": 2,
   "id": "39afb46a",
   "metadata": {},
   "outputs": [],
   "source": [
    "import os"
   ]
  },
  {
   "cell_type": "code",
   "execution_count": 3,
   "id": "dbe9ae11",
   "metadata": {},
   "outputs": [],
   "source": [
    "CUSTOM_MODEL_NAME = 'my_ssd_mobnet' \n",
    "PRETRAINED_MODEL_NAME = 'ssd_mobilenet_v2_fpnlite_320x320_coco17_tpu-8'\n",
    "PRETRAINED_MODEL_URL = 'http://download.tensorflow.org/models/object_detection/tf2/20200711/ssd_mobilenet_v2_fpnlite_320x320_coco17_tpu-8.tar.gz'\n",
    "TF_RECORD_SCRIPT_NAME = 'generate_tfrecord.py'\n",
    "LABEL_MAP_NAME = 'label_map.pbtxt'"
   ]
  },
  {
   "cell_type": "code",
   "execution_count": 4,
   "id": "880ccd30",
   "metadata": {},
   "outputs": [],
   "source": [
    "paths = {\n",
    "    'WORKSPACE_PATH': os.path.join('Tensorflow_Images', 'workspace'),\n",
    "    'SCRIPTS_PATH': os.path.join('Tensorflow_Images','scripts'),\n",
    "    'APIMODEL_PATH': os.path.join('Tensorflow_Images','models'),\n",
    "    'ANNOTATION_PATH': os.path.join('Tensorflow_Images', 'workspace','annotations'),\n",
    "    'IMAGE_PATH': os.path.join('Tensorflow_Images', 'workspace','images'),\n",
    "    'MODEL_PATH': os.path.join('Tensorflow_Images', 'workspace','models'),\n",
    "    'PRETRAINED_MODEL_PATH': os.path.join('Tensorflow_Images', 'workspace','pre-trained-models'),\n",
    "    'CHECKPOINT_PATH': os.path.join('Tensorflow_Images', 'workspace','models',CUSTOM_MODEL_NAME), \n",
    "    'OUTPUT_PATH': os.path.join('Tensorflow_Images', 'workspace','models',CUSTOM_MODEL_NAME, 'export'), \n",
    "    'TFJS_PATH':os.path.join('Tensorflow_Images', 'workspace','models',CUSTOM_MODEL_NAME, 'tfjsexport'), \n",
    "    'TFLITE_PATH':os.path.join('Tensorflow_Images', 'workspace','models',CUSTOM_MODEL_NAME, 'tfliteexport'), \n",
    "    'PROTOC_PATH':os.path.join('Tensorflow_Images','protoc')\n",
    " }"
   ]
  },
  {
   "cell_type": "code",
   "execution_count": 5,
   "id": "01519835",
   "metadata": {},
   "outputs": [],
   "source": [
    "files = {\n",
    "    'PIPELINE_CONFIG':os.path.join('Tensorflow_Images', 'workspace','models', CUSTOM_MODEL_NAME, 'pipeline.config'),\n",
    "    'TF_RECORD_SCRIPT': os.path.join(paths['SCRIPTS_PATH'], TF_RECORD_SCRIPT_NAME), \n",
    "    'LABELMAP': os.path.join(paths['ANNOTATION_PATH'], LABEL_MAP_NAME)\n",
    "}"
   ]
  },
  {
   "cell_type": "code",
   "execution_count": 7,
   "id": "7d5d010c",
   "metadata": {},
   "outputs": [],
   "source": [
    "for path in paths.values():\n",
    "    if not os.path.exists(path):\n",
    "        if os.name == 'nt':\n",
    "            !mkdir {path}"
   ]
  },
  {
   "cell_type": "markdown",
   "id": "a7d995a2",
   "metadata": {},
   "source": [
    "We are going to put the TF record files in the `annotation` folder. The `models` folder will contain our model files which we will clone the tensorflow repo in a bit."
   ]
  },
  {
   "cell_type": "markdown",
   "id": "d2bdc669",
   "metadata": {},
   "source": [
    "### 01. Download Pretrained Models and Install TFOD\n",
    "This is the most difficult part. Too much stuff to do. \n",
    "\n",
    "**Object detection tf**: https://github.com/tensorflow/models/tree/master/research/object_detection\n",
    "\n",
    "First, we install wget which is a library to retrieve files through HTTP from the internet.\n",
    "\n",
    "Next, we are going to clone this tf repo into our `Tensorflow_Images/models` folder.\n",
    "\n",
    "Ref: https://www.tensorflow.org/install/source_windows\n"
   ]
  },
  {
   "cell_type": "code",
   "execution_count": 8,
   "id": "b51c90c3",
   "metadata": {},
   "outputs": [
    {
     "name": "stdout",
     "output_type": "stream",
     "text": [
      "Requirement already satisfied: wget in c:\\users\\swapnil\\anaconda3\\lib\\site-packages (3.2)\n"
     ]
    }
   ],
   "source": [
    "if os.name=='nt':\n",
    "    !pip install wget\n",
    "    import wget"
   ]
  },
  {
   "cell_type": "code",
   "execution_count": null,
   "id": "055f18fd",
   "metadata": {
    "scrolled": true
   },
   "outputs": [],
   "source": [
    "if not os.path.exists(os.path.join(paths['APIMODEL_PATH'], 'research', 'object_detection')):\n",
    "    !git clone https://github.com/tensorflow/models {paths['APIMODEL_PATH']}"
   ]
  },
  {
   "cell_type": "markdown",
   "id": "40a06b40",
   "metadata": {},
   "source": [
    "Next, we do 4 things:\n",
    "1. Install `Protoc` using wget [ref](https://developers.google.com/protocol-buffers/docs/overview)\n",
    "2. Move the downloaded zip file to the protoc file path and extract\n",
    "3. Add the protoc bin folder into your environment path system variable\n",
    "4. Finally cd into the tensorflow folder and install\n",
    "\n",
    "**Note:** It takes forever to download these"
   ]
  },
  {
   "cell_type": "code",
   "execution_count": null,
   "id": "e3a105a8",
   "metadata": {},
   "outputs": [],
   "source": [
    "# Install Tensorflow Object Detection \n",
    "if os.name=='nt':\n",
    "    url=\"https://github.com/protocolbuffers/protobuf/releases/download/v3.15.6/protoc-3.15.6-win64.zip\"\n",
    "    wget.download(url)\n",
    "    !move protoc-3.15.6-win64.zip {paths['PROTOC_PATH']}\n",
    "    !cd {paths['PROTOC_PATH']} && tar -xf protoc-3.15.6-win64.zip\n",
    "    os.environ['PATH'] += os.pathsep + os.path.abspath(os.path.join(paths['PROTOC_PATH'], 'bin'))   \n",
    "    !cd Tensorflow_Images/models/research && protoc object_detection/protos/*.proto --python_out=. && copy object_detection\\\\packages\\\\tf2\\\\setup.py setup.py && python setup.py build && python setup.py install\n",
    "    !cd Tensorflow_Images/models/research/slim && pip install -e ."
   ]
  },
  {
   "cell_type": "markdown",
   "id": "2aeff1f7",
   "metadata": {},
   "source": [
    "Now, run this verification script to check if everything is installed."
   ]
  },
  {
   "cell_type": "code",
   "execution_count": null,
   "id": "0e27694d",
   "metadata": {},
   "outputs": [],
   "source": [
    "VERIFICATION_SCRIPT = os.path.join(paths['APIMODEL_PATH'], 'research', 'object_detection', 'builders', 'model_builder_tf2_test.py')\n",
    "# Verify Installation\n",
    "!python {VERIFICATION_SCRIPT}"
   ]
  },
  {
   "cell_type": "markdown",
   "id": "9b183e10",
   "metadata": {},
   "source": [
    "**NOTE:** Install tensor flow if the above script shows that tensorflow not installed. In my case, it worked. Similarly, install all required packages if it throws any error."
   ]
  },
  {
   "cell_type": "code",
   "execution_count": null,
   "id": "fdfefc39",
   "metadata": {},
   "outputs": [],
   "source": [
    "conda list"
   ]
  },
  {
   "cell_type": "code",
   "execution_count": 9,
   "id": "63723987",
   "metadata": {},
   "outputs": [],
   "source": [
    "import object_detection"
   ]
  },
  {
   "cell_type": "markdown",
   "id": "7f1971a0",
   "metadata": {},
   "source": [
    "Now we are going to leverage the existing pre-trained model and use it. We can find the [URL](http://download.tensorflow.org/models/object_detection/tf2/20200711/ssd_mobilenet_v2_fpnlite_320x320_coco17_tpu-8.tar.gz) from the tensorflow model zoo."
   ]
  },
  {
   "cell_type": "code",
   "execution_count": null,
   "id": "ad496ee7",
   "metadata": {},
   "outputs": [],
   "source": [
    "if os.name == 'nt':\n",
    "    wget.download(PRETRAINED_MODEL_URL)\n",
    "    !move {PRETRAINED_MODEL_NAME+'.tar.gz'} {paths['PRETRAINED_MODEL_PATH']}\n",
    "    !cd {paths['PRETRAINED_MODEL_PATH']} && tar -zxvf {PRETRAINED_MODEL_NAME+'.tar.gz'}"
   ]
  },
  {
   "cell_type": "markdown",
   "id": "84421a20",
   "metadata": {},
   "source": [
    "### 02. Create label map\n",
    "Now we are gonna create a label map. It contains all the labels of the model we are going to train"
   ]
  },
  {
   "cell_type": "code",
   "execution_count": 15,
   "id": "a8be1611",
   "metadata": {},
   "outputs": [],
   "source": [
    "labels = [{'name':'ThumbsUp', 'id':1}, {'name':'LiveLong', 'id':2}]\n",
    "\n",
    "with open(files['LABELMAP'], 'w') as f:\n",
    "    for label in labels:\n",
    "        f.write('item { \\n')\n",
    "        f.write('\\tname:\\'{}\\'\\n'.format(label['name']))\n",
    "        f.write('\\tid:{}\\n'.format(label['id']))\n",
    "        f.write('}\\n')"
   ]
  },
  {
   "cell_type": "markdown",
   "id": "9db616fe",
   "metadata": {},
   "source": [
    "### 03. Create TF Records\n",
    "\n",
    "TFRecords are binary formatted files for storing data. Using TFRecords will help speed up training for our custom object detection model\n"
   ]
  },
  {
   "cell_type": "code",
   "execution_count": null,
   "id": "cf8ad9ba",
   "metadata": {},
   "outputs": [],
   "source": [
    "# OPTIONAL IF RUNNING ON COLAB\n",
    "# SKIP THIS IF YOU ARE NOT USING COLAB\n",
    "ARCHIVE_FILES = os.path.join(paths['IMAGE_PATH'], 'archive.tar.gz')\n",
    "if os.path.exists(ARCHIVE_FILES):\n",
    "  !tar -zxvf {ARCHIVE_FILES}"
   ]
  },
  {
   "cell_type": "code",
   "execution_count": null,
   "id": "164ab7ab",
   "metadata": {
    "scrolled": true
   },
   "outputs": [],
   "source": [
    "if not os.path.exists(files['TF_RECORD_SCRIPT']):\n",
    "    !git clone https://github.com/nicknochnack/GenerateTFRecord {paths['SCRIPTS_PATH']}"
   ]
  },
  {
   "cell_type": "markdown",
   "id": "24be0f5c",
   "metadata": {},
   "source": [
    "The above script clones a python script which we can use to convert files to TFRecords format. Now we are going to convert our images to that format and put them inside `Tensorflow_Images\\workspace\\annotations`"
   ]
  },
  {
   "cell_type": "code",
   "execution_count": null,
   "id": "a65e622b",
   "metadata": {},
   "outputs": [],
   "source": [
    "!python {files['TF_RECORD_SCRIPT']} -x {os.path.join(paths['IMAGE_PATH'], 'train')} -l {files['LABELMAP']} -o {os.path.join(paths['ANNOTATION_PATH'], 'train.record')} \n",
    "!python {files['TF_RECORD_SCRIPT']} -x {os.path.join(paths['IMAGE_PATH'], 'test')} -l {files['LABELMAP']} -o {os.path.join(paths['ANNOTATION_PATH'], 'test.record')}"
   ]
  },
  {
   "cell_type": "markdown",
   "id": "fb7cb93f",
   "metadata": {},
   "source": [
    "### 04. Copy Model Config to Training Folder\n",
    "\n",
    "We are copying the pipeline.config file to our custom model folder. The `pipeline.config` file contains the information about the architecture of the model (which in this case is the ssd_mobilenet).\n",
    "\n",
    "If we open that pipeline.config file, we will see that some of the values are defined as *PATH_TO_BE_CONFIGURED*. This means we have to input those fields when training our model.\n",
    "\n",
    "`train_input_reader`: will contain the train TFRecord file\n",
    "\n",
    "`eval_input_reader`: will contain the test TFRecord file"
   ]
  },
  {
   "cell_type": "code",
   "execution_count": 29,
   "id": "5cd5045f",
   "metadata": {},
   "outputs": [
    {
     "name": "stdout",
     "output_type": "stream",
     "text": [
      "        1 file(s) copied.\n"
     ]
    }
   ],
   "source": [
    "if os.name == 'nt':\n",
    "    !copy {os.path.join(paths['PRETRAINED_MODEL_PATH'], PRETRAINED_MODEL_NAME, 'pipeline.config')} {os.path.join(paths['CHECKPOINT_PATH'])}"
   ]
  },
  {
   "cell_type": "markdown",
   "id": "833fb875",
   "metadata": {},
   "source": [
    "### 05. Update Config for our Custom model\n",
    "\n",
    "In this part, we are inputting those fields with the value *PATH_TO_BE_CONFIGURED*."
   ]
  },
  {
   "cell_type": "code",
   "execution_count": 10,
   "id": "538aa5cb",
   "metadata": {},
   "outputs": [],
   "source": [
    "import tensorflow as tf\n",
    "from object_detection.utils import config_util\n",
    "from object_detection.protos import pipeline_pb2\n",
    "from google.protobuf import text_format"
   ]
  },
  {
   "cell_type": "code",
   "execution_count": 11,
   "id": "ede0c6c9",
   "metadata": {},
   "outputs": [],
   "source": [
    "config = config_util.get_configs_from_pipeline_file(files['PIPELINE_CONFIG'])"
   ]
  },
  {
   "cell_type": "code",
   "execution_count": 12,
   "id": "cc4ddac5",
   "metadata": {},
   "outputs": [],
   "source": [
    "pipeline_config = pipeline_pb2.TrainEvalPipelineConfig()\n",
    "with tf.io.gfile.GFile(files['PIPELINE_CONFIG'], \"r\") as f:                                                                                                                                                                                                                     \n",
    "    proto_str = f.read()                                                                                                                                                                                                                                          \n",
    "    text_format.Merge(proto_str, pipeline_config)"
   ]
  },
  {
   "cell_type": "code",
   "execution_count": 17,
   "id": "fb798ce9",
   "metadata": {},
   "outputs": [],
   "source": [
    "pipeline_config.model.ssd.num_classes = len(labels)\n",
    "pipeline_config.train_config.batch_size = 4\n",
    "pipeline_config.train_config.fine_tune_checkpoint = os.path.join(paths['PRETRAINED_MODEL_PATH'], PRETRAINED_MODEL_NAME, 'checkpoint', 'ckpt-0')\n",
    "pipeline_config.train_config.fine_tune_checkpoint_type = \"detection\"\n",
    "pipeline_config.train_input_reader.label_map_path= files['LABELMAP']\n",
    "pipeline_config.train_input_reader.tf_record_input_reader.input_path[:] = [os.path.join(paths['ANNOTATION_PATH'], 'train.record')]\n",
    "pipeline_config.eval_input_reader[0].label_map_path = files['LABELMAP']\n",
    "pipeline_config.eval_input_reader[0].tf_record_input_reader.input_path[:] = [os.path.join(paths['ANNOTATION_PATH'], 'test.record')]"
   ]
  },
  {
   "cell_type": "code",
   "execution_count": 18,
   "id": "e46bd06b",
   "metadata": {},
   "outputs": [],
   "source": [
    "# finally write them into the file\n",
    "config_text = text_format.MessageToString(pipeline_config)                                                                                                                                                                                                        \n",
    "with tf.io.gfile.GFile(files['PIPELINE_CONFIG'], \"wb\") as f:                                                                                                                                                                                                                     \n",
    "    f.write(config_text)"
   ]
  },
  {
   "cell_type": "markdown",
   "id": "727b13a5",
   "metadata": {},
   "source": [
    "### 06. Training the model\n",
    "\n",
    "Now the fun part. \n",
    "We are going to use the `model_main_tf2.py` file to train our custom model. So, we provide our config file as well and indicate the dir path. We also use `num_train_steps` as 2000. For finalized models, increase this value to 10k or 20k."
   ]
  },
  {
   "cell_type": "code",
   "execution_count": 19,
   "id": "e6629015",
   "metadata": {},
   "outputs": [],
   "source": [
    "TRAINING_SCRIPT = os.path.join(paths['APIMODEL_PATH'], 'research', 'object_detection', 'model_main_tf2.py')"
   ]
  },
  {
   "cell_type": "code",
   "execution_count": 20,
   "id": "14773cec",
   "metadata": {},
   "outputs": [],
   "source": [
    "command = \"python {} --model_dir={} --pipeline_config_path={} --num_train_steps=2000\".format(TRAINING_SCRIPT, paths['CHECKPOINT_PATH'],files['PIPELINE_CONFIG'])"
   ]
  },
  {
   "cell_type": "code",
   "execution_count": 21,
   "id": "23e9a056",
   "metadata": {
    "scrolled": false
   },
   "outputs": [
    {
     "name": "stdout",
     "output_type": "stream",
     "text": [
      "python Tensorflow_Images\\models\\research\\object_detection\\model_main_tf2.py --model_dir=Tensorflow_Images\\workspace\\models\\my_ssd_mobnet --pipeline_config_path=Tensorflow_Images\\workspace\\models\\my_ssd_mobnet\\pipeline.config --num_train_steps=2000\n"
     ]
    }
   ],
   "source": [
    "print(command)\n",
    "# copy this output and run it in a cmd to track the progress"
   ]
  },
  {
   "cell_type": "markdown",
   "id": "aed502c7",
   "metadata": {},
   "source": [
    "**NOTE**: It's better to execute the command in the command shell. Since we cant keep track of the progress in this notebook."
   ]
  },
  {
   "cell_type": "code",
   "execution_count": null,
   "id": "06c879fc",
   "metadata": {},
   "outputs": [],
   "source": [
    "!{command}"
   ]
  },
  {
   "cell_type": "markdown",
   "id": "f6c3ba31",
   "metadata": {},
   "source": [
    "Error: you may need to reinstall some packages before running the command.\n"
   ]
  },
  {
   "cell_type": "markdown",
   "id": "105fab5e",
   "metadata": {},
   "source": [
    "### 07. Evaluate the Model"
   ]
  },
  {
   "cell_type": "code",
   "execution_count": 22,
   "id": "b5ebb914",
   "metadata": {},
   "outputs": [],
   "source": [
    "command = \"python {} --model_dir={} --pipeline_config_path={} --checkpoint_dir={}\".format(TRAINING_SCRIPT, paths['CHECKPOINT_PATH'],files['PIPELINE_CONFIG'], paths['CHECKPOINT_PATH'])"
   ]
  },
  {
   "cell_type": "code",
   "execution_count": 23,
   "id": "a429c5ef",
   "metadata": {},
   "outputs": [
    {
     "name": "stdout",
     "output_type": "stream",
     "text": [
      "python Tensorflow_Images\\models\\research\\object_detection\\model_main_tf2.py --model_dir=Tensorflow_Images\\workspace\\models\\my_ssd_mobnet --pipeline_config_path=Tensorflow_Images\\workspace\\models\\my_ssd_mobnet\\pipeline.config --checkpoint_dir=Tensorflow_Images\\workspace\\models\\my_ssd_mobnet\n"
     ]
    }
   ],
   "source": [
    "print(command)"
   ]
  },
  {
   "cell_type": "code",
   "execution_count": null,
   "id": "18f9fddf",
   "metadata": {},
   "outputs": [],
   "source": [
    "!{command}"
   ]
  },
  {
   "cell_type": "markdown",
   "id": "133adf15",
   "metadata": {},
   "source": [
    "Running the above command will generate an evaluation matrix and show us the accuracy of the model. "
   ]
  },
  {
   "cell_type": "markdown",
   "id": "5b717a6e",
   "metadata": {},
   "source": [
    "If we go to our custom model folder in `C:\\Users\\Swapnil\\Desktop\\Machine Learning\\Computer Vision\\object_detection\\Tensorflow_Images\\workspace\\models\\my_ssd_mobnet`, we will see that we have 2 folders: `eval` and `train`. The eval folder contains our test data set and the train contains our training set. We can open these for visualization in **tensorboard**. Tensorboard is a GUI. "
   ]
  },
  {
   "cell_type": "markdown",
   "id": "b57b43ee",
   "metadata": {},
   "source": [
    "to run tensorboard, cd into the eval folder or the train folder and type\n",
    "```bash\n",
    "tensorboard --logdir=.\n",
    "```\n",
    "And then navigate to http://localhost:6006/"
   ]
  },
  {
   "cell_type": "markdown",
   "id": "453a077f",
   "metadata": {},
   "source": [
    "###  08. Load Train Model From Checkpoint"
   ]
  },
  {
   "cell_type": "code",
   "execution_count": 28,
   "id": "f2471fc0",
   "metadata": {},
   "outputs": [],
   "source": [
    "import os\n",
    "import tensorflow as tf\n",
    "from object_detection.utils import label_map_util\n",
    "from object_detection.utils import visualization_utils as viz_utils\n",
    "from object_detection.builders import model_builder\n",
    "from object_detection.utils import config_util"
   ]
  },
  {
   "cell_type": "code",
   "execution_count": 33,
   "id": "ad35bcd7",
   "metadata": {},
   "outputs": [],
   "source": [
    "# Load pipeline config and build a detection model\n",
    "configs = config_util.get_configs_from_pipeline_file(files['PIPELINE_CONFIG'])\n",
    "detection_model = model_builder.build(model_config=configs['model'], is_training=False)\n",
    "\n",
    "# Restore checkpoint.\n",
    "# NOTE: ckpt-3 is my latest checkpoint. This can change. So number them accordingly.\n",
    "ckpt = tf.compat.v2.train.Checkpoint(model=detection_model)\n",
    "ckpt.restore(os.path.join(paths['CHECKPOINT_PATH'], 'ckpt-3')).expect_partial()\n",
    "\n",
    "@tf.function\n",
    "def detect_fn(image):\n",
    "    image, shapes = detection_model.preprocess(image)\n",
    "    prediction_dict = detection_model.predict(image, shapes)\n",
    "    detections = detection_model.postprocess(prediction_dict, shapes)\n",
    "    return detections"
   ]
  },
  {
   "cell_type": "markdown",
   "id": "61ee7fdb",
   "metadata": {},
   "source": [
    "### 09. Detect from static image"
   ]
  },
  {
   "cell_type": "code",
   "execution_count": 34,
   "id": "e1a49885",
   "metadata": {},
   "outputs": [],
   "source": [
    "import cv2 \n",
    "import numpy as np\n",
    "from matplotlib import pyplot as plt\n",
    "%matplotlib inline"
   ]
  },
  {
   "cell_type": "code",
   "execution_count": 35,
   "id": "5dbd91ab",
   "metadata": {},
   "outputs": [],
   "source": [
    "category_index = label_map_util.create_category_index_from_labelmap(files['LABELMAP'])"
   ]
  },
  {
   "cell_type": "markdown",
   "id": "c4399292",
   "metadata": {},
   "source": [
    "Add a dummy static image"
   ]
  },
  {
   "cell_type": "code",
   "execution_count": 39,
   "id": "a6a2c198",
   "metadata": {},
   "outputs": [],
   "source": [
    "IMAGE_PATH = os.path.join(paths['IMAGE_PATH'], 'test', 'thumbsup.77d7745a-152e-11ec-a8a2-40167e70ea98.jpg')"
   ]
  },
  {
   "cell_type": "code",
   "execution_count": 40,
   "id": "7d0abc3f",
   "metadata": {},
   "outputs": [
    {
     "data": {
      "image/png": "[encoded data removed]",
      "text/plain": [
       "<Figure size 432x288 with 1 Axes>"
      ]
     },
     "metadata": {
      "needs_background": "light"
     },
     "output_type": "display_data"
    }
   ],
   "source": [
    "img = cv2.imread(IMAGE_PATH)\n",
    "image_np = np.array(img)\n",
    "\n",
    "input_tensor = tf.convert_to_tensor(np.expand_dims(image_np, 0), dtype=tf.float32)\n",
    "detections = detect_fn(input_tensor)\n",
    "\n",
    "num_detections = int(detections.pop('num_detections'))\n",
    "detections = {key: value[0, :num_detections].numpy()\n",
    "              for key, value in detections.items()}\n",
    "detections['num_detections'] = num_detections\n",
    "\n",
    "# detection_classes should be ints.\n",
    "detections['detection_classes'] = detections['detection_classes'].astype(np.int64)\n",
    "\n",
    "label_id_offset = 1\n",
    "image_np_with_detections = image_np.copy()\n",
    "\n",
    "viz_utils.visualize_boxes_and_labels_on_image_array(\n",
    "            image_np_with_detections,\n",
    "            detections['detection_boxes'],\n",
    "            detections['detection_classes']+label_id_offset,\n",
    "            detections['detection_scores'],\n",
    "            category_index,\n",
    "            use_normalized_coordinates=True,\n",
    "            max_boxes_to_draw=5,\n",
    "            min_score_thresh=.8,\n",
    "            agnostic_mode=False)\n",
    "\n",
    "plt.imshow(cv2.cvtColor(image_np_with_detections, cv2.COLOR_BGR2RGB))\n",
    "plt.show()"
   ]
  },
  {
   "cell_type": "markdown",
   "id": "95f9ee0a",
   "metadata": {},
   "source": [
    "### 10. Realtime detections"
   ]
  },
  {
   "cell_type": "code",
   "execution_count": null,
   "id": "0a7cb29d",
   "metadata": {},
   "outputs": [],
   "source": [
    "cap = cv2.VideoCapture(0)\n",
    "width = int(cap.get(cv2.CAP_PROP_FRAME_WIDTH))\n",
    "height = int(cap.get(cv2.CAP_PROP_FRAME_HEIGHT))\n",
    "\n",
    "while cap.isOpened(): \n",
    "    ret, frame = cap.read()\n",
    "    image_np = np.array(frame)\n",
    "    \n",
    "    input_tensor = tf.convert_to_tensor(np.expand_dims(image_np, 0), dtype=tf.float32)\n",
    "    detections = detect_fn(input_tensor)\n",
    "    \n",
    "    num_detections = int(detections.pop('num_detections'))\n",
    "    detections = {key: value[0, :num_detections].numpy()\n",
    "                  for key, value in detections.items()}\n",
    "    detections['num_detections'] = num_detections\n",
    "\n",
    "    # detection_classes should be ints.\n",
    "    detections['detection_classes'] = detections['detection_classes'].astype(np.int64)\n",
    "\n",
    "    label_id_offset = 1\n",
    "    image_np_with_detections = image_np.copy()\n",
    "\n",
    "    viz_utils.visualize_boxes_and_labels_on_image_array(\n",
    "                image_np_with_detections,\n",
    "                detections['detection_boxes'],\n",
    "                detections['detection_classes']+label_id_offset,\n",
    "                detections['detection_scores'],\n",
    "                category_index,\n",
    "                use_normalized_coordinates=True,\n",
    "                max_boxes_to_draw=5,\n",
    "                min_score_thresh=.8,\n",
    "                agnostic_mode=False)\n",
    "\n",
    "    cv2.imshow('object detection',  cv2.resize(image_np_with_detections, (800, 600)))\n",
    "    \n",
    "    if cv2.waitKey(10) & 0xFF == ord('q'):\n",
    "        cap.release()\n",
    "        cv2.destroyAllWindows()\n",
    "        break"
   ]
  },
  {
   "cell_type": "markdown",
   "id": "e666f21b",
   "metadata": {},
   "source": [
    "### 11. Freezing the model\n",
    "\n",
    "Now, we can export our model to any app of our choice, may it be an android application or webapp. But first we have to [freeze](https://stats.stackexchange.com/questions/393168/what-does-it-mean-to-freeze-or-unfreeze-a-model) the model. \n",
    "\n",
    "We freeze the model and export the TFJS and TFLite files into their designated folders.\n"
   ]
  },
  {
   "cell_type": "code",
   "execution_count": 6,
   "id": "58ece04a",
   "metadata": {},
   "outputs": [],
   "source": [
    "FREEZE_SCRIPT = os.path.join(paths['APIMODEL_PATH'], 'research', 'object_detection', 'exporter_main_v2.py ')"
   ]
  },
  {
   "cell_type": "code",
   "execution_count": 7,
   "id": "ec0c8306",
   "metadata": {},
   "outputs": [],
   "source": [
    "command = \"python {} --input_type=image_tensor --pipeline_config_path={} --trained_checkpoint_dir={} --output_directory={}\".format(FREEZE_SCRIPT ,files['PIPELINE_CONFIG'], paths['CHECKPOINT_PATH'], paths['OUTPUT_PATH'])"
   ]
  },
  {
   "cell_type": "code",
   "execution_count": 8,
   "id": "e3c743e9",
   "metadata": {},
   "outputs": [
    {
     "name": "stdout",
     "output_type": "stream",
     "text": [
      "python Tensorflow_Images\\models\\research\\object_detection\\exporter_main_v2.py  --input_type=image_tensor --pipeline_config_path=Tensorflow_Images\\workspace\\models\\my_ssd_mobnet\\pipeline.config --trained_checkpoint_dir=Tensorflow_Images\\workspace\\models\\my_ssd_mobnet --output_directory=Tensorflow_Images\\workspace\\models\\my_ssd_mobnet\\export\n"
     ]
    }
   ],
   "source": [
    "print(command)"
   ]
  },
  {
   "cell_type": "code",
   "execution_count": null,
   "id": "88e36bb5",
   "metadata": {},
   "outputs": [],
   "source": [
    "!{command}"
   ]
  },
  {
   "cell_type": "markdown",
   "id": "186b5683",
   "metadata": {},
   "source": [
    "### 12. Conversion to TFJS\n",
    "\n",
    "We now export our entire machine learning model to a json file. We can use this file in our webapp which may be REACTjs"
   ]
  },
  {
   "cell_type": "code",
   "execution_count": null,
   "id": "67319554",
   "metadata": {},
   "outputs": [],
   "source": [
    "!pip install tensorflowjs"
   ]
  },
  {
   "cell_type": "code",
   "execution_count": 11,
   "id": "483613a6",
   "metadata": {},
   "outputs": [],
   "source": [
    "command = \"tensorflowjs_converter --input_format=tf_saved_model --output_node_names='detection_boxes,detection_classes,detection_features,detection_multiclass_scores,detection_scores,num_detections,raw_detection_boxes,raw_detection_scores' --output_format=tfjs_graph_model --signature_name=serving_default {} {}\".format(os.path.join(paths['OUTPUT_PATH'], 'saved_model'), paths['TFJS_PATH'])"
   ]
  },
  {
   "cell_type": "code",
   "execution_count": 12,
   "id": "78bf90c4",
   "metadata": {},
   "outputs": [
    {
     "name": "stdout",
     "output_type": "stream",
     "text": [
      "tensorflowjs_converter --input_format=tf_saved_model --output_node_names='detection_boxes,detection_classes,detection_features,detection_multiclass_scores,detection_scores,num_detections,raw_detection_boxes,raw_detection_scores' --output_format=tfjs_graph_model --signature_name=serving_default Tensorflow_Images\\workspace\\models\\my_ssd_mobnet\\export\\saved_model Tensorflow_Images\\workspace\\models\\my_ssd_mobnet\\tfjsexport\n"
     ]
    }
   ],
   "source": [
    "print(command)"
   ]
  },
  {
   "cell_type": "code",
   "execution_count": null,
   "id": "d3fd1450",
   "metadata": {},
   "outputs": [],
   "source": [
    "!{command}"
   ]
  },
  {
   "cell_type": "markdown",
   "id": "5d033ad6",
   "metadata": {},
   "source": [
    "Navigate to `Tensorflow_Images\\workspace\\models\\my_ssd_mobnet\\export\\saved_model Tensorflow_Images\\workspace\\models\\my_ssd_mobnet\\tfjsexport` and see that we have a model.json file now. This file contains the entire machine learning model."
   ]
  },
  {
   "cell_type": "markdown",
   "id": "f39a87e5",
   "metadata": {},
   "source": [
    "### 12. Conversion to TFLite\n",
    "\n",
    "TensorFlow Lite is TensorFlow's lightweight solution for mobile and embedded devices. It lets you run machine-learned models on mobile devices with low latency, so you can take advantage of them to do classification, regression or anything else you might want without necessarily incurring a round trip to a server\n"
   ]
  },
  {
   "cell_type": "code",
   "execution_count": 14,
   "id": "24c2fb6f",
   "metadata": {},
   "outputs": [],
   "source": [
    "TFLITE_SCRIPT = os.path.join(paths['APIMODEL_PATH'], 'research', 'object_detection', 'export_tflite_graph_tf2.py ')\n"
   ]
  },
  {
   "cell_type": "code",
   "execution_count": 15,
   "id": "5c44b839",
   "metadata": {},
   "outputs": [],
   "source": [
    "command = \"python {} --pipeline_config_path={} --trained_checkpoint_dir={} --output_directory={}\".format(TFLITE_SCRIPT ,files['PIPELINE_CONFIG'], paths['CHECKPOINT_PATH'], paths['TFLITE_PATH'])"
   ]
  },
  {
   "cell_type": "code",
   "execution_count": 16,
   "id": "96055e1d",
   "metadata": {},
   "outputs": [
    {
     "name": "stdout",
     "output_type": "stream",
     "text": [
      "python Tensorflow_Images\\models\\research\\object_detection\\export_tflite_graph_tf2.py  --pipeline_config_path=Tensorflow_Images\\workspace\\models\\my_ssd_mobnet\\pipeline.config --trained_checkpoint_dir=Tensorflow_Images\\workspace\\models\\my_ssd_mobnet --output_directory=Tensorflow_Images\\workspace\\models\\my_ssd_mobnet\\tfliteexport\n"
     ]
    }
   ],
   "source": [
    "print(command)"
   ]
  },
  {
   "cell_type": "code",
   "execution_count": null,
   "id": "fd672948",
   "metadata": {},
   "outputs": [],
   "source": [
    "!{command}"
   ]
  },
  {
   "cell_type": "code",
   "execution_count": 18,
   "id": "6a66a3de",
   "metadata": {},
   "outputs": [],
   "source": [
    "FROZEN_TFLITE_PATH = os.path.join(paths['TFLITE_PATH'], 'saved_model')\n",
    "TFLITE_MODEL = os.path.join(paths['TFLITE_PATH'], 'saved_model', 'detect.tflite')"
   ]
  },
  {
   "cell_type": "code",
   "execution_count": 19,
   "id": "1062eafa",
   "metadata": {},
   "outputs": [],
   "source": [
    "command = \"tflite_convert \\\n",
    "--saved_model_dir={} \\\n",
    "--output_file={} \\\n",
    "--input_shapes=1,300,300,3 \\\n",
    "--input_arrays=normalized_input_image_tensor \\\n",
    "--output_arrays='TFLite_Detection_PostProcess','TFLite_Detection_PostProcess:1','TFLite_Detection_PostProcess:2','TFLite_Detection_PostProcess:3' \\\n",
    "--inference_type=FLOAT \\\n",
    "--allow_custom_ops\".format(FROZEN_TFLITE_PATH, TFLITE_MODEL, )"
   ]
  },
  {
   "cell_type": "code",
   "execution_count": 20,
   "id": "5adb5ffb",
   "metadata": {},
   "outputs": [
    {
     "name": "stdout",
     "output_type": "stream",
     "text": [
      "tflite_convert --saved_model_dir=Tensorflow_Images\\workspace\\models\\my_ssd_mobnet\\tfliteexport\\saved_model --output_file=Tensorflow_Images\\workspace\\models\\my_ssd_mobnet\\tfliteexport\\saved_model\\detect.tflite --input_shapes=1,300,300,3 --input_arrays=normalized_input_image_tensor --output_arrays='TFLite_Detection_PostProcess','TFLite_Detection_PostProcess:1','TFLite_Detection_PostProcess:2','TFLite_Detection_PostProcess:3' --inference_type=FLOAT --allow_custom_ops\n"
     ]
    }
   ],
   "source": [
    "print(command)"
   ]
  },
  {
   "cell_type": "code",
   "execution_count": null,
   "id": "76f34980",
   "metadata": {},
   "outputs": [],
   "source": [
    "!{command}"
   ]
  },
  {
   "cell_type": "markdown",
   "id": "94705325",
   "metadata": {},
   "source": [
    "### 13. Zip and Export Models"
   ]
  },
  {
   "cell_type": "code",
   "execution_count": 22,
   "id": "b2b8458f",
   "metadata": {},
   "outputs": [],
   "source": [
    "!tar -czf models.tar.gz {paths['CHECKPOINT_PATH']}"
   ]
  }
 ],
 "metadata": {
  "kernelspec": {
   "display_name": "Python 3",
   "language": "python",
   "name": "python3"
  },
  "language_info": {
   "codemirror_mode": {
    "name": "ipython",
    "version": 3
   },
   "file_extension": ".py",
   "mimetype": "text/x-python",
   "name": "python",
   "nbconvert_exporter": "python",
   "pygments_lexer": "ipython3",
   "version": "3.8.8"
  }
 },
 "nbformat": 4,
 "nbformat_minor": 5
}
